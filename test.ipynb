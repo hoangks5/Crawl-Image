{
 "cells": [
  {
   "cell_type": "code",
   "execution_count": null,
   "metadata": {},
   "outputs": [],
   "source": [
    "from flickrapi import FlickrAPI\n",
    "\n",
    "FLICKR_PUBLIC = '466c4c31e82b8739e5b07b5798a19129'\n",
    "FLICKR_SECRET = 'f854572f81ad7c8a'\n",
    "\n",
    "flickr = FlickrAPI(FLICKR_PUBLIC, FLICKR_SECRET, format='parsed-json')\n",
    "extras='url_sq,url_t,url_s,url_q,url_m,url_n,url_z,url_c,url_l,url_o'\n",
    "cats = flickr.photos.search(text='kitten', per_page=1000, extras=extras)\n",
    "photos = cats['photos']['photo']"
   ]
  }
 ],
 "metadata": {
  "language_info": {
   "name": "python"
  },
  "orig_nbformat": 4
 },
 "nbformat": 4,
 "nbformat_minor": 2
}

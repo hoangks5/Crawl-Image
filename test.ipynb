{
 "cells": [
  {
   "cell_type": "code",
   "execution_count": 16,
   "metadata": {},
   "outputs": [],
   "source": [
    "from flickrapi import FlickrAPI\n",
    "\n",
    "FLICKR_PUBLIC = '466c4c31e82b8739e5b07b5798a19129'\n",
    "FLICKR_SECRET = 'f854572f81ad7c8a'\n",
    "\n",
    "flickr = FlickrAPI(FLICKR_PUBLIC, FLICKR_SECRET, format='parsed-json')\n",
    "extras='url_sq,url_t,url_s,url_q,url_m,url_n,url_z,url_c,url_l,url_o'\n",
    "cats = flickr.photos.search(text='tiger', per_page=1000, extras=extras)\n",
    "photos = cats['photos']['photo']"
   ]
  },
  {
   "cell_type": "code",
   "execution_count": 25,
   "metadata": {},
   "outputs": [
    {
     "name": "stdout",
     "output_type": "stream",
     "text": [
      "https://live.staticflickr.com/65535/52485135352_e979e1c553_o.jpg\n",
      "https://live.staticflickr.com/65535/52485625811_2215c1ae2c_o.png\n",
      "https://live.staticflickr.com/65535/52485122957_df6494884a_o.jpg\n",
      "https://live.staticflickr.com/65535/52486158323_ab5c7792e2_o.jpg\n",
      "https://live.staticflickr.com/65535/52485888604_4f7ce5c95f_o.jpg\n",
      "https://live.staticflickr.com/65535/52486068515_d45565efac_o.png\n",
      "https://live.staticflickr.com/65535/52486049745_4ee9bdbe4e_o.jpg\n",
      "https://live.staticflickr.com/65535/52485097697_db662c2fc7_o.png\n",
      "https://live.staticflickr.com/65535/52485097692_ffd913da84_o.png\n",
      "https://live.staticflickr.com/65535/52485865954_e9da8661a3_o.png\n",
      "https://live.staticflickr.com/65535/52485865944_51721513d7_o.png\n",
      "https://live.staticflickr.com/65535/52486126223_bb1bd2348a_o.jpg\n",
      "https://live.staticflickr.com/65535/52485088017_29f50d1155_o.jpg\n"
     ]
    },
    {
     "ename": "KeyError",
     "evalue": "'url_o'",
     "output_type": "error",
     "traceback": [
      "\u001b[0;31m---------------------------------------------------------------------------\u001b[0m",
      "\u001b[0;31mKeyError\u001b[0m                                  Traceback (most recent call last)",
      "Cell \u001b[0;32mIn [25], line 2\u001b[0m\n\u001b[1;32m      1\u001b[0m \u001b[39mfor\u001b[39;00m t \u001b[39min\u001b[39;00m photos:\n\u001b[0;32m----> 2\u001b[0m     \u001b[39mprint\u001b[39m(t[\u001b[39m'\u001b[39m\u001b[39murl_o\u001b[39m\u001b[39m'\u001b[39m])\n\u001b[1;32m      3\u001b[0m \u001b[39mprint\u001b[39m(\u001b[39mlen\u001b[39m(photos))\n",
      "\u001b[0;31mKeyError\u001b[0m: 'url_o'"
     ]
    }
   ],
   "source": [
    "for t in photos:\n",
    "    print(t['url_o'])\n",
    "print(len(photos))"
   ]
  },
  {
   "cell_type": "code",
   "execution_count": null,
   "metadata": {},
   "outputs": [],
   "source": []
  }
 ],
 "metadata": {
  "kernelspec": {
   "display_name": "Python 3.8.0 64-bit",
   "language": "python",
   "name": "python3"
  },
  "language_info": {
   "codemirror_mode": {
    "name": "ipython",
    "version": 3
   },
   "file_extension": ".py",
   "mimetype": "text/x-python",
   "name": "python",
   "nbconvert_exporter": "python",
   "pygments_lexer": "ipython3",
   "version": "3.8.0"
  },
  "orig_nbformat": 4,
  "vscode": {
   "interpreter": {
    "hash": "aee8b7b246df8f9039afb4144a1f6fd8d2ca17a180786b69acc140d282b71a49"
   }
  }
 },
 "nbformat": 4,
 "nbformat_minor": 2
}
